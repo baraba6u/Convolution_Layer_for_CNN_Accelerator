{
 "cells": [
  {
   "cell_type": "markdown",
   "metadata": {},
   "source": [
    "# DSD-2021 Project (CIFAR-10)\n",
    "---\n",
    "## Layerwise Inference Check\n",
    "- This is a python script to help you check if your RTL impelementation for each layer is correct\n",
    "\n",
    "## Usage\n",
    "- Run ```Board connection```, ```Setting the VDMA```, ```Save parameters```\n",
    "- Run the layers that you want to experiment in ```Inference```\n",
    "- Example : To test Convolution 1 + ReLU, run the below two cells\n",
    "  - Cell 1\n",
    "  ```\n",
    "  ###################################################################\n",
    "  #        Convolution 1 + ReLU\n",
    "  ###################################################################\n",
    "  # Convolution\n",
    "  # - in:       (n, 3, 32, 32)\n",
    "  # - out:     (n, 32, 28, 28)\n",
    "  # - weight:    (32, 3, 3, 3)\n",
    "  # - bias:               (32)\n",
    "  # ReLU\n",
    "  # - in:      (n. 32. 32. 32)\n",
    "  # - out:     (n. 32. 32. 32)\n",
    "  ###################################################################\n",
    "  I = {'IN_CH': 3, 'OUT_CH': 32, 'FLEN': 32}\n",
    "  F = {'BASE_ADDR': 0x0000_0000, 'STRIDE_SIZE': 3*32*32, 'HSIZE': 3*32*32, 'VSIZE': 1}\n",
    "  W = {'BASE_ADDR': 0x0200_0000, 'STRIDE_SIZE': 3*32*9, 'HSIZE': 3*32*9, 'VSIZE': 1}\n",
    "  B = {'BASE_ADDR': 0x0210_0000, 'STRIDE_SIZE': 32, 'HSIZE': 32, 'VSIZE': 1}\n",
    "  R = {'BASE_ADDR': 0x0600_0000, 'STRIDE_SIZE': 32*32*32, 'HSIZE': 32*32*32, 'VSIZE': 1}\n",
    "  SU.su_conv_control(I, F, W, B, R, VDMA1_BASE_ADDR, CONV_BASE_ADDR)\n",
    "  ```\n",
    "\n",
    "  - Cell 2\n",
    "  ```\n",
    "  SU.check_result(\"./data/new_cifar10_random_data/conv1_relu_out_2s.txt\", 0x0600_0000)\n",
    "  ```"
   ]
  },
  {
   "cell_type": "code",
   "execution_count": 1,
   "metadata": {},
   "outputs": [],
   "source": [
    "from utils.scale_uart import *\n",
    "from utils.board import *\n",
    "import time\n",
    "import time"
   ]
  },
  {
   "cell_type": "markdown",
   "metadata": {},
   "source": [
    "## Board connection"
   ]
  },
  {
   "cell_type": "code",
   "execution_count": 2,
   "metadata": {},
   "outputs": [
    {
     "name": "stdout",
     "output_type": "stream",
     "text": [
      "Current OS: Windows\n",
      "['COM1', 'COM4']\n",
      "COM1 port cannot be connected.\n",
      "COM4 port connected!\n"
     ]
    }
   ],
   "source": [
    "port_list = get_port_list()\n",
    "SU = get_scale_uart(port_list)"
   ]
  },
  {
   "cell_type": "markdown",
   "metadata": {},
   "source": [
    "## Setting the VDMA"
   ]
  },
  {
   "cell_type": "code",
   "execution_count": 3,
   "metadata": {},
   "outputs": [],
   "source": [
    "## DO NOT CHANGE \n",
    "## IT IS VDMA AND EACH MODULE'S BASE ADDRESS FOR CONTROL APB + AXI\n",
    "##### PARAMETER INFORMATION\n",
    "VDMA0_BASE_ADDR= 0x0c00_0000\n",
    "VDMA1_BASE_ADDR= 0x0c10_0000\n",
    "VDMA2_BASE_ADDR= 0x0c20_0000\n",
    "\n",
    "FC_BASE_ADDR   = 0x0d00_0000\n",
    "CONV_BASE_ADDR = 0x0d10_0000\n",
    "POOL_BASE_ADDR = 0x0d20_0000\n",
    "\n",
    "### FIXED FOR OUR NETWORK\n",
    "OP_SIZE                        = 4\n",
    "ADDR_SIZE                      = 28\n",
    "DATA_SIZE                      = 32"
   ]
  },
  {
   "cell_type": "markdown",
   "metadata": {},
   "source": [
    "## Save parameters "
   ]
  },
  {
   "cell_type": "code",
   "execution_count": 4,
   "metadata": {},
   "outputs": [
    {
     "name": "stdout",
     "output_type": "stream",
     "text": [
      "conv1 parameter load\n",
      "conv1 set done\n",
      "\tTotal time: 0.11 sec\n"
     ]
    }
   ],
   "source": [
    "print(\"conv1 parameter load\")\n",
    "start = time.time()\n",
    "SU.su_set_conv_w({'BASE_ADDR': 0x0200_0000}, \"./data/cifar10_network_quan_param/cifar10_conv1_weight_quan.npy\")\n",
    "SU.su_set_conv_b({'BASE_ADDR': 0x0210_0000}, \"./data/cifar10_network_quan_param/cifar10_conv1_bias_quan.npy\")\n",
    "print(\"conv1 set done\")\n",
    "print(\"\\tTotal time: {:.2f} sec\".format(time.time() - start))"
   ]
  },
  {
   "cell_type": "code",
   "execution_count": 5,
   "metadata": {},
   "outputs": [
    {
     "name": "stdout",
     "output_type": "stream",
     "text": [
      "conv2 parameter load\n",
      "conv2 set done\n",
      "\tTotal time: 2.13 sec\n"
     ]
    }
   ],
   "source": [
    "print(\"conv2 parameter load\")\n",
    "start = time.time()\n",
    "SU.su_set_conv_w({'BASE_ADDR': 0x0220_0000}, \"./data/cifar10_network_quan_param/cifar10_conv2_weight_quan.npy\")\n",
    "SU.su_set_conv_b({'BASE_ADDR': 0x0270_0000}, \"./data/cifar10_network_quan_param/cifar10_conv2_bias_quan.npy\")\n",
    "print(\"conv2 set done\")\n",
    "print(\"\\tTotal time: {:.2f} sec\".format(time.time() - start))"
   ]
  },
  {
   "cell_type": "code",
   "execution_count": 6,
   "metadata": {},
   "outputs": [
    {
     "name": "stdout",
     "output_type": "stream",
     "text": [
      "conv3 parameter load\n",
      "conv3 set done\n",
      "\tTotal time: 8.37 sec\n"
     ]
    }
   ],
   "source": [
    "print(\"conv3 parameter load\")\n",
    "start = time.time()\n",
    "SU.su_set_conv_w({'BASE_ADDR': 0x0280_0000}, \"./data/cifar10_network_quan_param/cifar10_conv3_weight_quan.npy\")\n",
    "SU.su_set_conv_b({'BASE_ADDR': 0x02C0_0000}, \"./data/cifar10_network_quan_param/cifar10_conv3_bias_quan.npy\")\n",
    "print(\"conv3 set done\")\n",
    "print(\"\\tTotal time: {:.2f} sec\".format(time.time() - start))"
   ]
  },
  {
   "cell_type": "code",
   "execution_count": 7,
   "metadata": {},
   "outputs": [
    {
     "name": "stdout",
     "output_type": "stream",
     "text": [
      "conv4 parameter load\n",
      "conv4 set done\n",
      "\tTotal time: 16.89 sec\n"
     ]
    }
   ],
   "source": [
    "print(\"conv4 parameter load\")\n",
    "start = time.time()\n",
    "SU.su_set_conv_w({'BASE_ADDR': 0x0300_0000}, \"./data/cifar10_network_quan_param/cifar10_conv4_weight_quan.npy\")\n",
    "SU.su_set_conv_b({'BASE_ADDR': 0x0390_0000}, \"./data/cifar10_network_quan_param/cifar10_conv4_bias_quan.npy\")\n",
    "print(\"conv4 set done\")\n",
    "print(\"\\tTotal time: {:.2f} sec\".format(time.time() - start))"
   ]
  },
  {
   "cell_type": "code",
   "execution_count": 8,
   "metadata": {},
   "outputs": [
    {
     "name": "stdout",
     "output_type": "stream",
     "text": [
      "conv5 parameter load\n",
      "conv5 set done\n",
      "\tTotal time: 33.86 sec\n"
     ]
    }
   ],
   "source": [
    "print(\"conv5 parameter load\")\n",
    "start = time.time()\n",
    "SU.su_set_conv_w({'BASE_ADDR': 0x03A0_0000}, \"./data/cifar10_network_quan_param/cifar10_conv5_weight_quan.npy\")\n",
    "SU.su_set_conv_b({'BASE_ADDR': 0x03F0_0000}, \"./data/cifar10_network_quan_param/cifar10_conv5_bias_quan.npy\")\n",
    "print(\"conv5 set done\")\n",
    "print(\"\\tTotal time: {:.2f} sec\".format(time.time() - start))"
   ]
  },
  {
   "cell_type": "code",
   "execution_count": 9,
   "metadata": {},
   "outputs": [
    {
     "name": "stdout",
     "output_type": "stream",
     "text": [
      "conv6 parameter load\n",
      "conv6 set done\n",
      "\tTotal time: 67.67 sec\n"
     ]
    }
   ],
   "source": [
    "print(\"conv6 parameter load\")\n",
    "start = time.time()\n",
    "SU.su_set_conv_w({'BASE_ADDR': 0x0400_0000}, \"./data/cifar10_network_quan_param/cifar10_conv6_weight_quan.npy\")\n",
    "SU.su_set_conv_b({'BASE_ADDR': 0x0490_0000}, \"./data/cifar10_network_quan_param/cifar10_conv6_bias_quan.npy\")\n",
    "print(\"conv6 set done\")\n",
    "print(\"\\tTotal time: {:.2f} sec\".format(time.time() - start))"
   ]
  },
  {
   "cell_type": "code",
   "execution_count": 10,
   "metadata": {},
   "outputs": [
    {
     "name": "stdout",
     "output_type": "stream",
     "text": [
      "fc1 parameter load\n",
      "fc1 set done\n",
      "\tTotal time: 29.81 sec\n"
     ]
    }
   ],
   "source": [
    "print(\"fc1 parameter load\")\n",
    "start = time.time()\n",
    "SU.su_set_fc_w({'BASE_ADDR': 0x0500_0000}, \"./data/cifar10_network_quan_param/cifar10_fc1_weight_quan.npy\")\n",
    "SU.su_set_fc_b({'BASE_ADDR': 0x0530_0000}, \"./data/cifar10_network_quan_param/cifar10_fc1_bias_quan.npy\")\n",
    "print(\"fc1 set done\")\n",
    "print(\"\\tTotal time: {:.2f} sec\".format(time.time() - start))"
   ]
  },
  {
   "cell_type": "code",
   "execution_count": 11,
   "metadata": {},
   "outputs": [
    {
     "name": "stdout",
     "output_type": "stream",
     "text": [
      "fc2 parameter load\n",
      "fc2 set done\n",
      "\tTotal time: 1.88 sec\n"
     ]
    }
   ],
   "source": [
    "print(\"fc2 parameter load\")\n",
    "start = time.time()\n",
    "SU.su_set_fc_w({'BASE_ADDR': 0x0540_0000}, \"./data/cifar10_network_quan_param/cifar10_fc2_weight_quan.npy\")\n",
    "SU.su_set_fc_b({'BASE_ADDR': 0x0550_0000}, \"./data/cifar10_network_quan_param/cifar10_fc2_bias_quan.npy\")\n",
    "print(\"fc2 set done\")\n",
    "print(\"\\tTotal time: {:.2f} sec\".format(time.time() - start))"
   ]
  },
  {
   "cell_type": "code",
   "execution_count": 12,
   "metadata": {},
   "outputs": [
    {
     "name": "stdout",
     "output_type": "stream",
     "text": [
      "fc3 parameter load\n",
      "fc3 set done\n",
      "\tTotal time: 0.08 sec\n"
     ]
    }
   ],
   "source": [
    "print(\"fc3 parameter load\")\n",
    "start = time.time()\n",
    "SU.su_set_fc_w({'BASE_ADDR': 0x0560_0000}, \"./data/cifar10_network_quan_param/cifar10_fc3_weight_quan.npy\")\n",
    "SU.su_set_fc_b({'BASE_ADDR': 0x0570_0000}, \"./data/cifar10_network_quan_param/cifar10_fc3_bias_quan.npy\")\n",
    "print(\"fc3 set done\")\n",
    "print(\"\\tTotal time: {:.2f} sec\".format(time.time() - start))"
   ]
  },
  {
   "cell_type": "markdown",
   "metadata": {},
   "source": [
    "## Inference"
   ]
  },
  {
   "cell_type": "code",
   "execution_count": 13,
   "metadata": {},
   "outputs": [],
   "source": [
    "SU.save_file(\"./data/new_cifar10_random_data/input_2s.txt\", 0x0000_0000)"
   ]
  },
  {
   "cell_type": "code",
   "execution_count": 14,
   "metadata": {},
   "outputs": [
    {
     "data": {
      "text/plain": [
       "1"
      ]
     },
     "execution_count": 14,
     "metadata": {},
     "output_type": "execute_result"
    }
   ],
   "source": [
    "###################################################################\n",
    "#        Convolution 1 + ReLU\n",
    "###################################################################\n",
    "# Convolution\n",
    "# - in:       (n, 3, 32, 32)\n",
    "# - out:     (n, 32, 28, 28)\n",
    "# - weight:    (32, 3, 3, 3)\n",
    "# - bias:               (32)\n",
    "# ReLU\n",
    "# - in:      (n. 32. 32. 32)\n",
    "# - out:     (n. 32. 32. 32)\n",
    "###################################################################\n",
    "I = {'IN_CH': 3, 'OUT_CH': 32, 'FLEN': 32}\n",
    "F = {'BASE_ADDR': 0x0000_0000, 'STRIDE_SIZE': 3*32*32, 'HSIZE': 3*32*32, 'VSIZE': 1}\n",
    "W = {'BASE_ADDR': 0x0200_0000, 'STRIDE_SIZE': 3*32*9, 'HSIZE': 3*32*9, 'VSIZE': 1}\n",
    "B = {'BASE_ADDR': 0x0210_0000, 'STRIDE_SIZE': 32, 'HSIZE': 32, 'VSIZE': 1}\n",
    "R = {'BASE_ADDR': 0x0600_0000, 'STRIDE_SIZE': 32*32*32, 'HSIZE': 32*32*32, 'VSIZE': 1}\n",
    "SU.su_conv_control(I, F, W, B, R, VDMA1_BASE_ADDR, CONV_BASE_ADDR)"
   ]
  },
  {
   "cell_type": "code",
   "execution_count": 15,
   "metadata": {
    "scrolled": false
   },
   "outputs": [
    {
     "name": "stdout",
     "output_type": "stream",
     "text": [
      "Count is 1000\n",
      "Count is 2000\n",
      "Count is 3000\n",
      "Count is 4000\n",
      "Count is 5000\n",
      "Count is 6000\n",
      "Count is 7000\n",
      "Count is 8000\n",
      "All Results are Correct\n"
     ]
    }
   ],
   "source": [
    "SU.check_result(\"./data/new_cifar10_random_data/conv1_relu_out_2s.txt\", 0x0600_0000)"
   ]
  },
  {
   "cell_type": "code",
   "execution_count": 16,
   "metadata": {},
   "outputs": [],
   "source": [
    "#SU.save_file(\"./data/new_cifar10_random_data/conv1_relu_out_2s.txt\", 0x0600_0000)"
   ]
  },
  {
   "cell_type": "code",
   "execution_count": 17,
   "metadata": {},
   "outputs": [
    {
     "data": {
      "text/plain": [
       "1"
      ]
     },
     "execution_count": 17,
     "metadata": {},
     "output_type": "execute_result"
    }
   ],
   "source": [
    "###################################################################\n",
    "#        Max Pool 1\n",
    "###################################################################\n",
    "# Max Pooling\n",
    "# - in:      (n. 32. 32. 32)\n",
    "# - out:     (n, 32, 16, 16)\n",
    "###################################################################\n",
    "I = {'IN_CH': 32, 'FLEN': 32}\n",
    "F = {'BASE_ADDR': 0x0600_0000, 'STRIDE_SIZE': 32*32*32, 'HSIZE': 32*32*32, 'VSIZE': 1}\n",
    "R = {'BASE_ADDR': 0x0610_0000, 'STRIDE_SIZE': 32*16*16, 'HSIZE': 32*16*16, 'VSIZE': 1}\n",
    "SU.su_pool_control(I, F, R, VDMA2_BASE_ADDR, POOL_BASE_ADDR)"
   ]
  },
  {
   "cell_type": "code",
   "execution_count": 18,
   "metadata": {},
   "outputs": [
    {
     "name": "stdout",
     "output_type": "stream",
     "text": [
      "Count is 1000\n",
      "Count is 2000\n",
      "All Results are Correct\n"
     ]
    }
   ],
   "source": [
    "SU.check_result(\"./data/new_cifar10_random_data/pool1_out_2s.txt\", 0x0610_0000)"
   ]
  },
  {
   "cell_type": "code",
   "execution_count": 19,
   "metadata": {},
   "outputs": [],
   "source": [
    "#SU.save_file(\"./data/new_cifar10_random_data/pool1_out_2s.txt\", 0x0610_0000)"
   ]
  },
  {
   "cell_type": "code",
   "execution_count": 20,
   "metadata": {},
   "outputs": [
    {
     "data": {
      "text/plain": [
       "1"
      ]
     },
     "execution_count": 20,
     "metadata": {},
     "output_type": "execute_result"
    }
   ],
   "source": [
    "###################################################################\n",
    "#        Convolution 2 + ReLU\n",
    "###################################################################\n",
    "# Convolution\n",
    "# - in:       (n, 32, 16, 16)\n",
    "# - out:      (n, 64, 16, 16)\n",
    "# - weight:    (64, 32, 3, 3)\n",
    "# - bias:                (64)\n",
    "# ReLU\n",
    "# - in:       (n. 64. 16. 16)\n",
    "# - out:      (n. 64. 16. 16)\n",
    "###################################################################\n",
    "I = {'IN_CH': 32, 'OUT_CH': 64, 'FLEN': 16}\n",
    "F = {'BASE_ADDR': 0x0610_0000, 'STRIDE_SIZE': 32*16*16, 'HSIZE': 32*16*16, 'VSIZE': 1}\n",
    "W = {'BASE_ADDR': 0x0220_0000, 'STRIDE_SIZE': 32*64*9, 'HSIZE': 32*64*9, 'VSIZE': 1}\n",
    "B = {'BASE_ADDR': 0x0270_0000, 'STRIDE_SIZE': 64, 'HSIZE': 64, 'VSIZE': 1}\n",
    "R = {'BASE_ADDR': 0x0620_0000, 'STRIDE_SIZE': 64*16*16, 'HSIZE': 64*16*16, 'VSIZE': 1}\n",
    "SU.su_conv_control(I, F, W, B, R, VDMA1_BASE_ADDR, CONV_BASE_ADDR)"
   ]
  },
  {
   "cell_type": "code",
   "execution_count": 21,
   "metadata": {},
   "outputs": [
    {
     "name": "stdout",
     "output_type": "stream",
     "text": [
      "Count is 1000\n",
      "Count is 2000\n",
      "Count is 3000\n",
      "Count is 4000\n",
      "All Results are Correct\n"
     ]
    }
   ],
   "source": [
    "SU.check_result(\"./data/new_cifar10_random_data/conv2_relu_out_2s.txt\", 0x0620_0000)"
   ]
  },
  {
   "cell_type": "code",
   "execution_count": 22,
   "metadata": {},
   "outputs": [],
   "source": [
    "#SU.save_file(\"./data/new_cifar10_random_data/conv2_relu_out_2s.txt\", 0x0620_0000)"
   ]
  },
  {
   "cell_type": "code",
   "execution_count": 23,
   "metadata": {},
   "outputs": [
    {
     "data": {
      "text/plain": [
       "1"
      ]
     },
     "execution_count": 23,
     "metadata": {},
     "output_type": "execute_result"
    }
   ],
   "source": [
    "###################################################################\n",
    "#        Max Pool 2\n",
    "###################################################################\n",
    "# Max Pooling\n",
    "# - in:      (n. 64. 16. 16)\n",
    "# - out:       (n, 64, 8, 8)\n",
    "###################################################################\n",
    "I = {'IN_CH': 64, 'FLEN': 16}\n",
    "F = {'BASE_ADDR': 0x0620_0000, 'STRIDE_SIZE': 64*16*16, 'HSIZE': 64*16*16, 'VSIZE': 1}\n",
    "R = {'BASE_ADDR': 0x0630_0000, 'STRIDE_SIZE': 64*8*8, 'HSIZE': 64*8*8, 'VSIZE': 1}\n",
    "SU.su_pool_control(I, F, R, VDMA2_BASE_ADDR, POOL_BASE_ADDR)"
   ]
  },
  {
   "cell_type": "code",
   "execution_count": 24,
   "metadata": {},
   "outputs": [
    {
     "name": "stdout",
     "output_type": "stream",
     "text": [
      "Count is 1000\n",
      "All Results are Correct\n"
     ]
    }
   ],
   "source": [
    "SU.check_result(\"./data/new_cifar10_random_data/pool2_out_2s.txt\", 0x0630_0000)"
   ]
  },
  {
   "cell_type": "code",
   "execution_count": 25,
   "metadata": {},
   "outputs": [],
   "source": [
    "#SU.save_file(\"./data/new_cifar10_random_data/pool2_out_2s.txt\", 0x0630_0000)"
   ]
  },
  {
   "cell_type": "code",
   "execution_count": 26,
   "metadata": {},
   "outputs": [
    {
     "data": {
      "text/plain": [
       "1"
      ]
     },
     "execution_count": 26,
     "metadata": {},
     "output_type": "execute_result"
    }
   ],
   "source": [
    "###################################################################\n",
    "#        Convolution 3 + ReLU\n",
    "###################################################################\n",
    "# Convolution\n",
    "# - in:        (n, 64, 8, 8)\n",
    "# - out:      (n, 128, 8, 8)\n",
    "# - weight:  (128, 64, 3, 3)\n",
    "# - bias:              (128)\n",
    "# ReLU\n",
    "# - in:       (n. 128. 8. 8)\n",
    "# - out:      (n. 128. 8. 8)\n",
    "###################################################################\n",
    "I = {'IN_CH': 64, 'OUT_CH': 128, 'FLEN': 8}\n",
    "F = {'BASE_ADDR': 0x0630_0000, 'STRIDE_SIZE': 64*8*8, 'HSIZE': 64*8*8, 'VSIZE': 1}\n",
    "W = {'BASE_ADDR': 0x0280_0000, 'STRIDE_SIZE': int(64*128*9/2), 'HSIZE': int(64*128*9/2), 'VSIZE': 2}\n",
    "B = {'BASE_ADDR': 0x02C0_0000, 'STRIDE_SIZE': 128, 'HSIZE': 128, 'VSIZE': 1}\n",
    "R = {'BASE_ADDR': 0x0640_0000, 'STRIDE_SIZE': 128*8*8, 'HSIZE': 128*8*8, 'VSIZE': 1}\n",
    "SU.su_conv_control(I, F, W, B, R, VDMA1_BASE_ADDR, CONV_BASE_ADDR)"
   ]
  },
  {
   "cell_type": "code",
   "execution_count": 27,
   "metadata": {},
   "outputs": [
    {
     "name": "stdout",
     "output_type": "stream",
     "text": [
      "Count is 1000\n",
      "Count is 2000\n",
      "All Results are Correct\n"
     ]
    }
   ],
   "source": [
    "SU.check_result(\"./data/new_cifar10_random_data/conv3_relu_out_2s.txt\", 0x0640_0000)"
   ]
  },
  {
   "cell_type": "code",
   "execution_count": 28,
   "metadata": {},
   "outputs": [],
   "source": [
    "#SU.save_file(\"./data/new_cifar10_random_data/conv3_relu_out_2s.txt\", 0x0640_0000)"
   ]
  },
  {
   "cell_type": "code",
   "execution_count": 29,
   "metadata": {},
   "outputs": [
    {
     "data": {
      "text/plain": [
       "1"
      ]
     },
     "execution_count": 29,
     "metadata": {},
     "output_type": "execute_result"
    }
   ],
   "source": [
    "###################################################################\n",
    "#        Convolution 4 + ReLU\n",
    "###################################################################\n",
    "# Convolution\n",
    "# - in:       (n, 128, 8, 8)\n",
    "# - out:      (n, 128, 8, 8)\n",
    "# - weight: (128, 128, 3, 3)\n",
    "# - bias:              (128)\n",
    "# ReLU\n",
    "# - in:       (n. 128. 8. 8)\n",
    "# - out:      (n. 128. 8. 8)\n",
    "###################################################################\n",
    "I = {'IN_CH': 128, 'OUT_CH': 128, 'FLEN': 8}\n",
    "F = {'BASE_ADDR': 0x0640_0000, 'STRIDE_SIZE': 128*8*8, 'HSIZE': 128*8*8, 'VSIZE': 1}\n",
    "W = {'BASE_ADDR': 0x0300_0000, 'STRIDE_SIZE': int(128*128*9/4), 'HSIZE': int(128*128*9/4), 'VSIZE': 4}\n",
    "B = {'BASE_ADDR': 0x0390_0000, 'STRIDE_SIZE': 128, 'HSIZE': 128, 'VSIZE': 1}\n",
    "R = {'BASE_ADDR': 0x0650_0000, 'STRIDE_SIZE': 128*8*8, 'HSIZE': 128*8*8, 'VSIZE': 1}\n",
    "SU.su_conv_control(I, F, W, B, R, VDMA1_BASE_ADDR, CONV_BASE_ADDR)"
   ]
  },
  {
   "cell_type": "code",
   "execution_count": 30,
   "metadata": {},
   "outputs": [
    {
     "name": "stdout",
     "output_type": "stream",
     "text": [
      "Count is 1000\n",
      "Count is 2000\n",
      "All Results are Correct\n"
     ]
    }
   ],
   "source": [
    "SU.check_result(\"./data/new_cifar10_random_data/conv4_relu_out_2s.txt\", 0x0650_0000)"
   ]
  },
  {
   "cell_type": "code",
   "execution_count": 31,
   "metadata": {},
   "outputs": [],
   "source": [
    "#SU.save_file(\"./data/new_cifar10_random_data/conv4_relu_out_2s.txt\", 0x0650_0000)"
   ]
  },
  {
   "cell_type": "code",
   "execution_count": 32,
   "metadata": {},
   "outputs": [
    {
     "data": {
      "text/plain": [
       "1"
      ]
     },
     "execution_count": 32,
     "metadata": {},
     "output_type": "execute_result"
    }
   ],
   "source": [
    "###################################################################\n",
    "#        Max Pool 3\n",
    "###################################################################\n",
    "# Max Pooling\n",
    "# - in:      (n. 128. 8. 8)\n",
    "# - out:     (n, 128, 4, 4)\n",
    "###################################################################\n",
    "I = {'IN_CH': 128, 'FLEN': 8}\n",
    "F = {'BASE_ADDR': 0x0650_0000, 'STRIDE_SIZE': 128*8*8, 'HSIZE': 128*8*8, 'VSIZE': 1}\n",
    "R = {'BASE_ADDR': 0x0660_0000, 'STRIDE_SIZE': 128*4*4, 'HSIZE': 128*4*4, 'VSIZE': 1}\n",
    "SU.su_pool_control(I, F, R, VDMA2_BASE_ADDR, POOL_BASE_ADDR)"
   ]
  },
  {
   "cell_type": "code",
   "execution_count": 33,
   "metadata": {},
   "outputs": [
    {
     "name": "stdout",
     "output_type": "stream",
     "text": [
      "All Results are Correct\n"
     ]
    }
   ],
   "source": [
    "SU.check_result(\"./data/new_cifar10_random_data/pool3_out_2s.txt\", 0x0660_0000)"
   ]
  },
  {
   "cell_type": "code",
   "execution_count": 34,
   "metadata": {},
   "outputs": [],
   "source": [
    "#SU.save_file(\"./data/new_cifar10_random_data/pool3_out_2s.txt\", 0x0660_0000)"
   ]
  },
  {
   "cell_type": "code",
   "execution_count": 35,
   "metadata": {},
   "outputs": [
    {
     "data": {
      "text/plain": [
       "1"
      ]
     },
     "execution_count": 35,
     "metadata": {},
     "output_type": "execute_result"
    }
   ],
   "source": [
    "###################################################################\n",
    "#        Convolution 5+ ReLU\n",
    "###################################################################\n",
    "# Convolution\n",
    "# - in:       (n, 128, 4, 4)\n",
    "# - out:      (n, 256, 4, 4)\n",
    "# - weight: (256, 128, 3, 3)\n",
    "# - bias:              (256)\n",
    "# ReLU\n",
    "# - in:       (n. 256. 4. 4)\n",
    "# - out:      (n. 256. 4. 4)\n",
    "###################################################################\n",
    "I = {'IN_CH': 128, 'OUT_CH': 256, 'FLEN': 4}\n",
    "F = {'BASE_ADDR': 0x0660_0000, 'STRIDE_SIZE': 128*4*4, 'HSIZE': 128*4*4, 'VSIZE': 1}\n",
    "W = {'BASE_ADDR': 0x03A0_0000, 'STRIDE_SIZE': int(128*256*9/8), 'HSIZE': int(128*256*9/8), 'VSIZE': 8}\n",
    "B = {'BASE_ADDR': 0x03F0_0000, 'STRIDE_SIZE': 256, 'HSIZE': 256, 'VSIZE': 1}\n",
    "R = {'BASE_ADDR': 0x0670_0000, 'STRIDE_SIZE': 256*4*4, 'HSIZE': 256*4*4, 'VSIZE': 1}\n",
    "SU.su_conv_control(I, F, W, B, R, VDMA1_BASE_ADDR, CONV_BASE_ADDR)"
   ]
  },
  {
   "cell_type": "code",
   "execution_count": 36,
   "metadata": {},
   "outputs": [
    {
     "name": "stdout",
     "output_type": "stream",
     "text": [
      "Count is 1000\n",
      "All Results are Correct\n"
     ]
    }
   ],
   "source": [
    "SU.check_result(\"./data/new_cifar10_random_data/conv5_relu_out_2s.txt\", 0x0670_0000)"
   ]
  },
  {
   "cell_type": "code",
   "execution_count": 37,
   "metadata": {},
   "outputs": [],
   "source": [
    "#SU.save_file(\"./data/new_cifar10_random_data/conv5_relu_out_2s.txt\", 0x0670_0000)"
   ]
  },
  {
   "cell_type": "code",
   "execution_count": 38,
   "metadata": {},
   "outputs": [
    {
     "data": {
      "text/plain": [
       "1"
      ]
     },
     "execution_count": 38,
     "metadata": {},
     "output_type": "execute_result"
    }
   ],
   "source": [
    "###################################################################\n",
    "#        Convolution 6 + ReLU\n",
    "###################################################################\n",
    "# Convolution\n",
    "# - in:        (n, 256, 4, 4)\n",
    "# - out:       (n, 256, 4, 4)\n",
    "# - weight:  (256, 256, 3, 3)\n",
    "# - bias:               (256)\n",
    "# ReLU\n",
    "# - in:        (n. 256. 4. 4)\n",
    "# - out:       (n. 256. 4. 4)\n",
    "###################################################################\n",
    "I = {'IN_CH': 256, 'OUT_CH': 256, 'FLEN': 4}\n",
    "F = {'BASE_ADDR': 0x0670_0000, 'STRIDE_SIZE': 256*4*4, 'HSIZE': 256*4*4, 'VSIZE': 1}\n",
    "W = {'BASE_ADDR': 0x0400_0000, 'STRIDE_SIZE': int(256*256*9/16), 'HSIZE': int(256*256*9/16), 'VSIZE': 16}\n",
    "B = {'BASE_ADDR': 0x0490_0000, 'STRIDE_SIZE': 256, 'HSIZE': 256, 'VSIZE': 1}\n",
    "R = {'BASE_ADDR': 0x0680_0000, 'STRIDE_SIZE': 256*4*4, 'HSIZE': 256*4*4, 'VSIZE': 1}\n",
    "SU.su_conv_control(I, F, W, B, R, VDMA1_BASE_ADDR, CONV_BASE_ADDR)"
   ]
  },
  {
   "cell_type": "code",
   "execution_count": 39,
   "metadata": {},
   "outputs": [
    {
     "name": "stdout",
     "output_type": "stream",
     "text": [
      "Count is 1000\n",
      "All Results are Correct\n"
     ]
    }
   ],
   "source": [
    "SU.check_result(\"./data/new_cifar10_random_data/conv6_relu_out_2s.txt\", 0x0680_0000)"
   ]
  },
  {
   "cell_type": "code",
   "execution_count": 40,
   "metadata": {},
   "outputs": [],
   "source": [
    "#SU.save_file(\"./data/new_cifar10_random_data/conv6_relu_out_2s.txt\", 0x0680_0000)"
   ]
  },
  {
   "cell_type": "code",
   "execution_count": 41,
   "metadata": {},
   "outputs": [
    {
     "data": {
      "text/plain": [
       "1"
      ]
     },
     "execution_count": 41,
     "metadata": {},
     "output_type": "execute_result"
    }
   ],
   "source": [
    "###################################################################\n",
    "#        Max Pool 4\n",
    "###################################################################\n",
    "# Max Pooling\n",
    "# - in:      (n. 256. 4. 4)\n",
    "# - out:     (n, 256, 2, 2)\n",
    "###################################################################\n",
    "I = {'IN_CH': 256, 'FLEN': 4}\n",
    "F = {'BASE_ADDR': 0x0680_0000, 'STRIDE_SIZE': 256*4*4, 'HSIZE': 256*4*4, 'VSIZE': 1}\n",
    "R = {'BASE_ADDR': 0x0690_0000, 'STRIDE_SIZE': 256*2*2, 'HSIZE': 256*2*2, 'VSIZE': 1}\n",
    "SU.su_pool_control(I, F, R, VDMA2_BASE_ADDR, POOL_BASE_ADDR)"
   ]
  },
  {
   "cell_type": "code",
   "execution_count": 42,
   "metadata": {},
   "outputs": [
    {
     "name": "stdout",
     "output_type": "stream",
     "text": [
      "All Results are Correct\n"
     ]
    }
   ],
   "source": [
    "SU.check_result(\"./data/new_cifar10_random_data/pool4_out_2s.txt\", 0x0690_0000)"
   ]
  },
  {
   "cell_type": "code",
   "execution_count": 43,
   "metadata": {},
   "outputs": [],
   "source": [
    "#SU.save_file(\"./data/new_cifar10_random_data/pool4_out_2s.txt\", 0x0690_0000)"
   ]
  },
  {
   "cell_type": "code",
   "execution_count": 44,
   "metadata": {},
   "outputs": [
    {
     "name": "stdout",
     "output_type": "stream",
     "text": [
      "[0, 0, 0, 227]\n"
     ]
    },
    {
     "data": {
      "text/plain": [
       "1"
      ]
     },
     "execution_count": 44,
     "metadata": {},
     "output_type": "execute_result"
    }
   ],
   "source": [
    "###################################################################\n",
    "#        Fully-Connected 1 + ReLU\n",
    "###################################################################\n",
    "# Fully-Connected\n",
    "# - in:             (1024,)\n",
    "# - out:             (256,)\n",
    "# - weight:     (256, 1024)\n",
    "# - bias:            (256,)\n",
    "# ReLU\n",
    "# - in:              (256,)\n",
    "# - out:             (256,)\n",
    "###################################################################\n",
    "F = {'BASE_ADDR': 0x0690_0000, 'STRIDE_SIZE': 1024, 'HSIZE': 1024, 'VSIZE': 1}\n",
    "W = {'BASE_ADDR': 0x0500_0000, 'STRIDE_SIZE': int(1024*256/8), 'HSIZE': int(1024*256/8), 'VSIZE': 8}\n",
    "B = {'BASE_ADDR': 0x0530_0000, 'STRIDE_SIZE': 256, 'HSIZE': 256, 'VSIZE': 1}\n",
    "R = {'BASE_ADDR': 0x06A0_0000, 'STRIDE_SIZE': 256, 'HSIZE': 256, 'VSIZE': 1}\n",
    "SU.su_fc_control(F, W, B, R, VDMA0_BASE_ADDR, FC_BASE_ADDR)"
   ]
  },
  {
   "cell_type": "code",
   "execution_count": 45,
   "metadata": {},
   "outputs": [
    {
     "name": "stdout",
     "output_type": "stream",
     "text": [
      "All Results are Correct\n"
     ]
    }
   ],
   "source": [
    "SU.check_result(\"./data/new_cifar10_random_data/fc1_relu_out_2s.txt\", 0x06A0_0000)"
   ]
  },
  {
   "cell_type": "code",
   "execution_count": 46,
   "metadata": {},
   "outputs": [],
   "source": [
    "#SU.save_file(\"./data/new_cifar10_random_data/fc1_relu_out_2s.txt\", 0x06A0_0000)"
   ]
  },
  {
   "cell_type": "code",
   "execution_count": 47,
   "metadata": {},
   "outputs": [
    {
     "name": "stdout",
     "output_type": "stream",
     "text": [
      "[0, 0, 0, 24]\n"
     ]
    },
    {
     "data": {
      "text/plain": [
       "1"
      ]
     },
     "execution_count": 47,
     "metadata": {},
     "output_type": "execute_result"
    }
   ],
   "source": [
    "###################################################################\n",
    "#        Fully-Connected 2 + ReLU\n",
    "###################################################################\n",
    "# Fully-Connected\n",
    "# - in:             (256,)\n",
    "# - out:             (64,)\n",
    "# - weight:      (64, 256)\n",
    "# - bias:            (64,)\n",
    "# ReLU\n",
    "# - in:              (64,)\n",
    "# - out:             (64,)\n",
    "###################################################################\n",
    "F = {'BASE_ADDR': 0x06A0_0000, 'STRIDE_SIZE': 256, 'HSIZE': 256, 'VSIZE': 1}\n",
    "W = {'BASE_ADDR': 0x0540_0000, 'STRIDE_SIZE': 256*64, 'HSIZE': 256*64, 'VSIZE': 1}\n",
    "B = {'BASE_ADDR': 0x0550_0000, 'STRIDE_SIZE': 64, 'HSIZE': 64, 'VSIZE': 1}\n",
    "R = {'BASE_ADDR': 0x06B0_0000, 'STRIDE_SIZE': 64, 'HSIZE': 64, 'VSIZE': 1}\n",
    "SU.su_fc_control(F, W, B, R, VDMA0_BASE_ADDR, FC_BASE_ADDR)"
   ]
  },
  {
   "cell_type": "code",
   "execution_count": 48,
   "metadata": {},
   "outputs": [
    {
     "name": "stdout",
     "output_type": "stream",
     "text": [
      "All Results are Correct\n"
     ]
    }
   ],
   "source": [
    "SU.check_result(\"./data/new_cifar10_random_data/fc2_relu_out_2s.txt\", 0x06B0_0000)"
   ]
  },
  {
   "cell_type": "code",
   "execution_count": 49,
   "metadata": {},
   "outputs": [],
   "source": [
    "#SU.save_file(\"./data/new_cifar10_random_data/fc2_relu_out_2s.txt\", 0x06B0_0000)"
   ]
  },
  {
   "cell_type": "code",
   "execution_count": 50,
   "metadata": {},
   "outputs": [
    {
     "name": "stdout",
     "output_type": "stream",
     "text": [
      "[0, 0, 0, 9]\n"
     ]
    },
    {
     "data": {
      "text/plain": [
       "1"
      ]
     },
     "execution_count": 50,
     "metadata": {},
     "output_type": "execute_result"
    }
   ],
   "source": [
    "###################################################################\n",
    "#        Fully-Connected 3 + ReLU\n",
    "###################################################################\n",
    "# Fully-Connected\n",
    "# - in:               (64,)\n",
    "# - out:              (10,)\n",
    "# - weight:        (10, 64)\n",
    "# - bias:             (10,)\n",
    "# ReLU\n",
    "# - in:               (10,)\n",
    "# - out:              (10,)\n",
    "###################################################################\n",
    "F = {'BASE_ADDR': 0x06B0_0000, 'STRIDE_SIZE': 64, 'HSIZE': 64, 'VSIZE': 1}\n",
    "W = {'BASE_ADDR': 0x0560_0000, 'STRIDE_SIZE': 640, 'HSIZE': 640, 'VSIZE': 1}\n",
    "B = {'BASE_ADDR': 0x0570_0000, 'STRIDE_SIZE': 10, 'HSIZE': 10, 'VSIZE': 1}\n",
    "R = {'BASE_ADDR': 0x06C0_0000, 'STRIDE_SIZE': 10, 'HSIZE': 10, 'VSIZE': 1}\n",
    "SU.su_fc_control(F, W, B, R, VDMA0_BASE_ADDR, FC_BASE_ADDR)"
   ]
  },
  {
   "cell_type": "code",
   "execution_count": 51,
   "metadata": {},
   "outputs": [
    {
     "name": "stdout",
     "output_type": "stream",
     "text": [
      "All Results are Correct\n"
     ]
    }
   ],
   "source": [
    "SU.check_result(\"./data/new_cifar10_random_data/fc3_out_2s.txt\", 0x06C0_0000, mode=\"fc3_out_2s\")"
   ]
  },
  {
   "cell_type": "code",
   "execution_count": 52,
   "metadata": {},
   "outputs": [
    {
     "name": "stdout",
     "output_type": "stream",
     "text": [
      "8\n",
      "Max index is Correct\n"
     ]
    }
   ],
   "source": [
    "##############################################################################################\n",
    "# Below code can be revised according to your apb register setting\n",
    "##############################################################################################\n",
    "# Read label index from apb register (our design output the index to that address)\n",
    "\n",
    "# We assign FC_BASE_ADDR + 0x20 apb register to return max-value index\n",
    "label = SU.su_read_data(FC_BASE_ADDR + 0x20)\n",
    "label = int.from_bytes(label, 'big', signed=True)\n",
    "# Predicted (computated) label\n",
    "print(label-1)\n",
    "if(label-1 == 8):\n",
    "    print(\"Max index is Correct\")\n",
    "else:\n",
    "    print(\"Max index is Wrong\")"
   ]
  },
  {
   "cell_type": "code",
   "execution_count": null,
   "metadata": {},
   "outputs": [],
   "source": []
  }
 ],
 "metadata": {
  "kernelspec": {
   "display_name": "Python 3",
   "language": "python",
   "name": "python3"
  },
  "language_info": {
   "codemirror_mode": {
    "name": "ipython",
    "version": 3
   },
   "file_extension": ".py",
   "mimetype": "text/x-python",
   "name": "python",
   "nbconvert_exporter": "python",
   "pygments_lexer": "ipython3",
   "version": "3.7.6"
  }
 },
 "nbformat": 4,
 "nbformat_minor": 4
}
